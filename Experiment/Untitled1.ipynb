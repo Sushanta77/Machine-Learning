{
 "cells": [
  {
   "cell_type": "code",
   "execution_count": 80,
   "metadata": {},
   "outputs": [],
   "source": [
    "import numpy as np\n",
    "from sklearn.cross_validation import train_test_split\n",
    "from sklearn.metrics import mean_squared_error\n",
    "from sklearn.linear_model import LinearRegression,SGDRegressor\n",
    "from sklearn.pipeline import Pipeline\n",
    "from sklearn.preprocessing import PolynomialFeatures,StandardScaler\n",
    "import matplotlib.pyplot as plt\n",
    "%matplotlib inline\n",
    "import warnings\n",
    "warnings.filterwarnings('ignore')"
   ]
  },
  {
   "cell_type": "code",
   "execution_count": 16,
   "metadata": {},
   "outputs": [],
   "source": [
    "X = 4 + np.random.randn(100,1)\n",
    "y = 3 + 4 * X + np.random.randn(100,1)"
   ]
  },
  {
   "cell_type": "code",
   "execution_count": 31,
   "metadata": {},
   "outputs": [
    {
     "name": "stdout",
     "output_type": "stream",
     "text": [
      "Linear Regression : Intercept: [2.61881152] Coef : [[4.15487784]] \n"
     ]
    }
   ],
   "source": [
    "lin_reg=LinearRegression()\n",
    "lin_reg.fit(X,y)\n",
    "print (\"Linear Regression : Intercept: {} Coef : {} \".format(lin_reg.intercept_,lin_reg.coef_))"
   ]
  },
  {
   "cell_type": "code",
   "execution_count": 38,
   "metadata": {},
   "outputs": [
    {
     "name": "stdout",
     "output_type": "stream",
     "text": [
      "SGD Regression : Intercept: [0.33630592]  Coef : [1.40918145]\n"
     ]
    }
   ],
   "source": [
    "sgd_reg = SGDRegressor(n_iter=1,eta0=0.0005,penalty=None)\n",
    "sgd_reg.fit(X,y)\n",
    "print (\"SGD Regression : Intercept: {}  Coef : {}\".format(sgd_reg.intercept_,sgd_reg.coef_))"
   ]
  },
  {
   "cell_type": "code",
   "execution_count": 102,
   "metadata": {},
   "outputs": [
    {
     "data": {
      "text/plain": [
       "[<matplotlib.lines.Line2D at 0x1a3f2dc630>]"
      ]
     },
     "execution_count": 102,
     "metadata": {},
     "output_type": "execute_result"
    },
    {
     "data": {
      "image/png": "[encoded data removed]",
      "text/plain": [
       "<Figure size 432x288 with 1 Axes>"
      ]
     },
     "metadata": {},
     "output_type": "display_data"
    }
   ],
   "source": [
    "n_epochs = 500\n",
    "X_train, X_val, y_train, y_val = train_test_split(X[:50], y[:50].ravel(), test_size=0.5, random_state=10)\n",
    "poly_scaler = Pipeline([\n",
    "        (\"poly_features\", PolynomialFeatures(degree=90, include_bias=False)),\n",
    "        (\"std_scaler\", StandardScaler()),\n",
    "    ])\n",
    "\n",
    "X_train_poly_scaled = poly_scaler.fit_transform(X_train)\n",
    "\n",
    "sgd_reg = SGDRegressor(max_iter=1,eta0=0.0005,penalty=None,warm_start=True,learning_rate='constant')\n",
    "\n",
    "\n",
    "#sgd_reg = SGDRegressor(max_iter=1,\n",
    "#                       penalty=None,\n",
    "#                       eta0=0.0005,\n",
    "#                       warm_start=True,\n",
    "#                       learning_rate=\"constant\",\n",
    "#                       random_state=42)\n",
    "\n",
    "\n",
    "n_epochs = 500\n",
    "train_errors, val_errors = [], []\n",
    "for epoch in range(n_epochs):\n",
    "    sgd_reg.fit(X_train_poly_scaled, y_train)\n",
    "    y_train_predict = sgd_reg.predict(X_train_poly_scaled)\n",
    "    train_errors.append(mean_squared_error(y_train, y_train_predict))\n",
    "\n",
    "#train_errors, val_errors = [] , []\n",
    "#for i in range(n_epochs):\n",
    "    #sgd_reg.fit(X_train,y_train)\n",
    "    #y_train_predict = sgd_reg.predict(X_train)\n",
    "\n",
    "    #sgd_reg.fit(X_train_poly_scaled,y_train)\n",
    "    #y_train_predict = sgd_reg.predict(X_train_poly_scaled)\n",
    "\n",
    "    #print (\"SGD Regression : Intercept: {}  Coef : {}\".format(sgd_reg.intercept_,sgd_reg.coef_))\n",
    "    #train_errors.append(mean_squared_error(y_train, y_train_predict))\n",
    "    #plt.plot(X,sgd_reg.intercept_+sgd_reg.coef_*X,label = 'Sklearn - SGD Regression')\n",
    "    \n",
    "#plt.legend(loc='lower right')\n",
    "\n",
    "plt.plot(np.sqrt(train_errors), \"r--\", linewidth=2, label=\"Training set\")B"
   ]
  },
  {
   "cell_type": "code",
   "execution_count": 132,
   "metadata": {},
   "outputs": [
    {
     "name": "stdout",
     "output_type": "stream",
     "text": [
      "[0.81723182] [3.44284064]\n",
      "[2.61881152] [[4.15487784]]\n"
     ]
    },
    {
     "data": {
      "image/png": "[encoded data removed]",
      "text/plain": [
       "<Figure size 432x288 with 1 Axes>"
      ]
     },
     "metadata": {},
     "output_type": "display_data"
    }
   ],
   "source": [
    "plt.scatter(X,y)\n",
    "sgd_reg=SGDRegressor(n_iter=50,eta0=0.0001)\n",
    "sgd_reg.fit(X,y)\n",
    "print (sgd_reg.intercept_,sgd_reg.coef_)\n",
    "#plt.plot(X,sgd_reg.intercept_+X*sgd_reg.coef_)\n",
    "\n",
    "\n",
    "plt.scatter(X,y)\n",
    "lin_reg=LinearRegression()\n",
    "lin_reg.fit(X,y)\n",
    "print (lin_reg.intercept_,lin_reg.coef_)\n",
    "#plt.plot(X,lin_reg.intercept_+X*lin_reg.coef_)"
   ]
  },
  {
   "cell_type": "code",
   "execution_count": 118,
   "metadata": {},
   "outputs": [],
   "source": [
    "X_b = np.c_[np.ones((100,1)),X]"
   ]
  },
  {
   "cell_type": "code",
   "execution_count": 262,
   "metadata": {},
   "outputs": [
    {
     "data": {
      "text/plain": [
       "array([1.94573347, 3.45387316, 2.21501999, 2.43131669, 4.58195649,\n",
       "       2.12742795, 6.20501508, 3.48080161, 3.62048711, 3.30043745,\n",
       "       5.1068862 , 5.78984468, 5.39202867, 4.79057492, 4.30162091,\n",
       "       2.84352249, 3.73440765, 6.17526365, 2.70733155, 5.40414511,\n",
       "       3.05828548, 2.93334493, 3.82485498, 3.70956531, 3.55392893,\n",
       "       3.44184803, 5.22763988, 3.48252377, 4.16628367, 4.54172567,\n",
       "       3.85642138, 3.90923008, 5.18642035, 2.70391531, 3.92384015,\n",
       "       4.11327365, 2.70873541, 3.40678213, 4.81911321, 6.13393997,\n",
       "       5.40332339, 4.8932903 , 2.85493288, 2.73036057, 3.56328135,\n",
       "       3.16278042, 4.69078251, 4.46088587, 4.15943554, 4.75832465])"
      ]
     },
     "execution_count": 262,
     "metadata": {},
     "output_type": "execute_result"
    }
   ],
   "source": [
    "X_train[:,1]"
   ]
  },
  {
   "cell_type": "code",
   "execution_count": 267,
   "metadata": {},
   "outputs": [
    {
     "data": {
      "text/plain": [
       "[<matplotlib.lines.Line2D at 0x1a487ed470>]"
      ]
     },
     "execution_count": 267,
     "metadata": {},
     "output_type": "execute_result"
    },
    {
     "data": {
      "image/png": "[encoded data removed]",
      "text/plain": [
       "<Figure size 432x288 with 1 Axes>"
      ]
     },
     "metadata": {},
     "output_type": "display_data"
    }
   ],
   "source": [
    "#--------------------------------------Variable Declaration\n",
    "theta = np.random.rand(2,1)\n",
    "n_epochs = 500\n",
    "eta = 0.001\n",
    "m = 100\n",
    "train_error = []\n",
    "\n",
    "X_train,X_val,y_train,y_val = train_test_split(X_b,y,test_size=0.5,random_state=132)\n",
    "\n",
    "#Calculated - Linear Regression\n",
    "for i in range(n_epochs):\n",
    "    gradient = 1/m*X_train.T.dot(X_train.dot(theta) - y_train)\n",
    "    theta = theta - eta * gradient\n",
    "    y_train_pred = theta[0] + theta[1]*X_train[:,1]\n",
    "    train_error.append(mean_squared_error(y_train,y_train_pred))\n",
    "    #print (\"Training Error :{}\".format(mean_squared_error(y_train,y_train_pred)))\n",
    "#print (\"Cal    Regression :: Intercept: {}  : Coef  : {}\".format(theta[0,0],theta[1,0]))\n",
    "plt.plot(train_error)\n",
    "\n",
    "#Sklearn - Linear Regression\n",
    "#lin_reg=LinearRegression()\n",
    "#lin_reg.fit(X,y)\n",
    "#print (\"Normal Regression :: Intercept: {}  : Coef : {}\".format(lin_reg.intercept_[0],lin_reg.coef_[0,0]))"
   ]
  },
  {
   "cell_type": "code",
   "execution_count": 268,
   "metadata": {},
   "outputs": [
    {
     "data": {
      "text/plain": [
       "[<matplotlib.lines.Line2D at 0x1a4883d940>]"
      ]
     },
     "execution_count": 268,
     "metadata": {},
     "output_type": "execute_result"
    },
    {
     "data": {
      "image/png": "[encoded data removed]",
      "text/plain": [
       "<Figure size 432x288 with 1 Axes>"
      ]
     },
     "metadata": {},
     "output_type": "display_data"
    }
   ],
   "source": [
    "plt.plot(train_error)"
   ]
  },
  {
   "cell_type": "code",
   "execution_count": 269,
   "metadata": {},
   "outputs": [
    {
     "name": "stdout",
     "output_type": "stream",
     "text": [
      "Cal    Regression :: Intercept: 2.497514548281525  : Coef  : 4.18348165244377\n",
      "Normal Regression :: Intercept: 2.6188115217626944  : Coef : 4.154877840287817\n",
      "CalSGD Regression :: Intercept: 2.633762128893876  : Coef  : 4.159390381072431\n",
      "SGD    Regression :: Intercept: 0.817857624123972   : Coef : 3.439954582490268\n"
     ]
    },
    {
     "data": {
      "text/plain": [
       "<matplotlib.legend.Legend at 0x1a48678e48>"
      ]
     },
     "execution_count": 269,
     "metadata": {},
     "output_type": "execute_result"
    },
    {
     "data": {
      "image/png": "[encoded data removed]",
      "text/plain": [
       "<Figure size 432x288 with 1 Axes>"
      ]
     },
     "metadata": {},
     "output_type": "display_data"
    }
   ],
   "source": [
    "#--------------------------------------Variable Declaration\n",
    "X_b = np.c_[np.ones((100,1)),X]\n",
    "theta = np.random.rand(2,1)\n",
    "n_epochs = 500\n",
    "n_epochs_gd = 50\n",
    "eta = 0.1\n",
    "m = 100\n",
    "\n",
    "#Calculated - Linear Regression\n",
    "for i in range(n_epochs):\n",
    "    gradient = 1/m*X_b.T.dot(X_b.dot(theta) - y)\n",
    "    theta = theta - eta * gradient\n",
    "print (\"Cal    Regression :: Intercept: {}  : Coef  : {}\".format(theta[0,0],theta[1,0]))\n",
    "\n",
    "\n",
    "#Sklearn - Linear Regression\n",
    "lin_reg=LinearRegression()\n",
    "lin_reg.fit(X,y)\n",
    "print (\"Normal Regression :: Intercept: {}  : Coef : {}\".format(lin_reg.intercept_[0],lin_reg.coef_[0,0]))\n",
    "\n",
    "\n",
    "\n",
    "#Calculated - SGD\n",
    "for epoch in range(n_epochs):\n",
    "    for i in range(m):\n",
    "        xi = X_b[i:i+1]\n",
    "        yi = y[i:i+1]\n",
    "        gradient = 1/m*xi.T.dot(xi.dot(theta) - yi)\n",
    "        theta = theta - eta * gradient\n",
    "print (\"CalSGD Regression :: Intercept: {}  : Coef  : {}\".format(theta[0,0],theta[1,0]))\n",
    "\n",
    "\n",
    "\n",
    "#Sklearn - SGD\n",
    "sgd_reg=SGDRegressor(n_iter=50,eta0=0.0001)\n",
    "sgd_reg.fit(X,y)\n",
    "print (\"SGD    Regression :: Intercept: {}   : Coef : {}\".format(sgd_reg.intercept_[0],sgd_reg.coef_[0]))\n",
    "\n",
    "\n",
    "plt.scatter(X,y,color='navy')\n",
    "plt.plot(X,lin_reg.intercept_+X*lin_reg.coef_,label='Linear Regression',color='navy')\n",
    "plt.plot(X,sgd_reg.intercept_+X*sgd_reg.coef_,label='SGD Regressor',color='green')\n",
    "plt.plot(X,theta[0]+X*theta[1],label='Clculated - GD',color='red')\n",
    "\n",
    "plt.legend(loc='lower right')"
   ]
  },
  {
   "cell_type": "code",
   "execution_count": 27,
   "metadata": {},
   "outputs": [],
   "source": [
    "from sklearn import datasets\n",
    "import numpy as np\n",
    "from sklearn.linear_model import LogisticRegression\n",
    "import matplotlib.pyplot as plt\n",
    "%matplotlib inline"
   ]
  },
  {
   "cell_type": "code",
   "execution_count": 2,
   "metadata": {},
   "outputs": [],
   "source": [
    "iris=datasets.load_iris()"
   ]
  },
  {
   "cell_type": "code",
   "execution_count": 3,
   "metadata": {},
   "outputs": [
    {
     "data": {
      "text/plain": [
       "array(['setosa', 'versicolor', 'virginica'], dtype='<U10')"
      ]
     },
     "execution_count": 3,
     "metadata": {},
     "output_type": "execute_result"
    }
   ],
   "source": [
    "iris.target_names"
   ]
  }
 ],
 "metadata": {
  "kernelspec": {
   "display_name": "Python 3",
   "language": "python",
   "name": "python3"
  },
  "language_info": {
   "codemirror_mode": {
    "name": "ipython",
    "version": 3
   },
   "file_extension": ".py",
   "mimetype": "text/x-python",
   "name": "python",
   "nbconvert_exporter": "python",
   "pygments_lexer": "ipython3",
   "version": "3.6.5"
  }
 },
 "nbformat": 4,
 "nbformat_minor": 2
}
