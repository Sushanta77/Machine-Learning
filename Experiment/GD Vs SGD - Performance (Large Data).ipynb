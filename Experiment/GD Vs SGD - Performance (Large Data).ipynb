{
 "cells": [
  {
   "cell_type": "code",
   "execution_count": 1,
   "metadata": {},
   "outputs": [],
   "source": [
    "import numpy as np\n",
    "import matplotlib.pyplot as plt\n",
    "%matplotlib inline\n",
    "import gc"
   ]
  },
  {
   "cell_type": "code",
   "execution_count": 3,
   "metadata": {},
   "outputs": [],
   "source": [
    "eta = 0.1\n",
    "X = np.random.randn(300000000,1)\n",
    "\n",
    "\n",
    "m = X.shape[0]\n",
    "\n",
    "\n",
    "y = np.random.randn(300000000,1)\n",
    "X_b = np.c_[np.ones((m,1)),X]\n",
    "\n",
    "theta = np.random.randn(X_b.shape[1],1)"
   ]
  },
  {
   "cell_type": "code",
   "execution_count": 6,
   "metadata": {},
   "outputs": [],
   "source": [
    "theta1 = np.random.randn(2,1)"
   ]
  },
  {
   "cell_type": "code",
   "execution_count": null,
   "metadata": {},
   "outputs": [],
   "source": [
    "#    1 Iteration  - 3.13 Seconds      [ -0.05716703 , -0.79837891        ]\n",
    "#   10 Iteration  - 30.8 Seconds      [ -0.00775115 , -0.107175          ]\n",
    "#  100 Iteration  - 11 Min 55 Seconds [-6.84027967e-05 , -2.95200260e-05 ]\n",
    "# 1000 Iteration - "
   ]
  },
  {
   "cell_type": "code",
   "execution_count": 11,
   "metadata": {},
   "outputs": [
    {
     "name": "stdout",
     "output_type": "stream",
     "text": [
      "Value of theta:[[-6.84027967e-05]\n",
      " [-2.95200260e-05]]\n",
      "CPU times: user 54min 22s, sys: 2min 47s, total: 57min 9s\n",
      "Wall time: 11min 55s\n"
     ]
    }
   ],
   "source": [
    "%%time\n",
    "n_iterations = 100\n",
    "m = X_b.shape[0]\n",
    "eta = 0.1\n",
    "\n",
    "theta = theta1\n",
    "theta_final = []\n",
    "theta_final.append(theta.reshape(1,2))\n",
    "\n",
    "for i in range(n_iterations):\n",
    "    gradient = (2/m)*X_b.T.dot(X_b.dot(theta) - y)\n",
    "    theta = theta - eta *  gradient\n",
    "    theta_final.append(theta.reshape(1,2))\n",
    "print (\"Value of theta:{}\".format(theta))"
   ]
  },
  {
   "cell_type": "code",
   "execution_count": 14,
   "metadata": {},
   "outputs": [
    {
     "name": "stdout",
     "output_type": "stream",
     "text": [
      "Value of theta:[[-0.05850066]\n",
      " [-0.8170721 ]]\n",
      "CPU times: user 25min 8s, sys: 52.7 s, total: 26min\n",
      "Wall time: 26min 9s\n"
     ]
    }
   ],
   "source": [
    "%%time\n",
    "n_iterations = 1\n",
    "m = X_b.shape[0]\n",
    "eta = 0.1\n",
    "\n",
    "theta = theta1\n",
    "theta_final = []\n",
    "theta_final.append(theta.reshape(1,2))\n",
    "random_index = np.random.permutation(m)\n",
    "X_b = X_b[random_index]\n",
    "y = y[random_index]\n",
    "\n",
    "for epoch in range(n_iterations):\n",
    "    for i in range(X_b.shape[0]):\n",
    "        gradient = (2/m)*X_b[i:i+1].T.dot(X_b[i:i+1].dot(theta) - y[i:i+1])\n",
    "        theta = theta - eta *  gradient\n",
    "        theta_final.append(theta.reshape(1,2))\n",
    "print (\"Value of theta:{}\".format(theta))"
   ]
  }
 ],
 "metadata": {
  "kernelspec": {
   "display_name": "Python 3",
   "language": "python",
   "name": "python3"
  },
  "language_info": {
   "codemirror_mode": {
    "name": "ipython",
    "version": 3
   },
   "file_extension": ".py",
   "mimetype": "text/x-python",
   "name": "python",
   "nbconvert_exporter": "python",
   "pygments_lexer": "ipython3",
   "version": "3.6.5"
  }
 },
 "nbformat": 4,
 "nbformat_minor": 2
}
