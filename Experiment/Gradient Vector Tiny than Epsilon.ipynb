{
 "cells": [
  {
   "cell_type": "code",
   "execution_count": 1,
   "metadata": {},
   "outputs": [],
   "source": [
    "import numpy as np\n",
    "import matplotlib.pyplot as plt\n",
    "%matplotlib inline"
   ]
  },
  {
   "cell_type": "code",
   "execution_count": 187,
   "metadata": {},
   "outputs": [],
   "source": [
    "X = 2 * np.random.randn(100000,1)\n",
    "y = 3 + 2*X + np.random.randn(100000,1)\n",
    "X_b = np.c_[ np.ones((100000,1)),X]"
   ]
  },
  {
   "cell_type": "code",
   "execution_count": 190,
   "metadata": {},
   "outputs": [
    {
     "name": "stdout",
     "output_type": "stream",
     "text": [
      "Value of theta:[[2.99867927]\n",
      " [1.99998117]]\n",
      "CPU times: user 6.65 s, sys: 20.1 ms, total: 6.67 s\n",
      "Wall time: 835 ms\n"
     ]
    }
   ],
   "source": [
    "%%time\n",
    "n_iterations = 1000\n",
    "eta = 0.1\n",
    "m = 100000\n",
    "\n",
    "theta = np.random.randn(2,1)\n",
    "\n",
    "for i in range(n_iterations):\n",
    "    gradients = (2/m) * X_b.T.dot(X_b.dot(theta) - y)\n",
    "    #print (\"Value of gradient:{} - {}\".format(gradients[0],gradients[1]))\n",
    "    theta = theta - eta * gradients\n",
    "    \n",
    "print (\"Value of theta:{}\".format(theta))"
   ]
  },
  {
   "cell_type": "code",
   "execution_count": 192,
   "metadata": {},
   "outputs": [
    {
     "name": "stdout",
     "output_type": "stream",
     "text": [
      "Value of Theta:[[3.38526002]\n",
      " [2.3096004 ]]\n",
      "CPU times: user 21.8 s, sys: 52.1 ms, total: 21.9 s\n",
      "Wall time: 21.8 s\n"
     ]
    }
   ],
   "source": [
    "%%time\n",
    "n_epochs = 50\n",
    "eta = 0.1\n",
    "m = 100000\n",
    "x_random = np.random.permutation(100000)\n",
    "for epoch in range(n_epochs):\n",
    "    for i in range(X_b[x_random].shape[0]):\n",
    "        gradient = X_b[i:i+1].T.dot(X_b[i:i+1].dot(theta) - y[i])\n",
    "        theta = theta - eta * gradient\n",
    "    \n",
    "print (\"Value of Theta:{}\".format(theta))"
   ]
  },
  {
   "cell_type": "code",
   "execution_count": 127,
   "metadata": {},
   "outputs": [
    {
     "name": "stdout",
     "output_type": "stream",
     "text": [
      "Value of Theta:[[2.92308149]\n",
      " [2.06162658]]\n"
     ]
    }
   ],
   "source": [
    "n_epochs = 150\n",
    "\n",
    "t0,t1 = 5,50\n",
    "\n",
    "def learning_schedule(t):\n",
    "    return t0 / (t + t1)\n",
    "\n",
    "theta = np.random.randn(2,1)\n",
    "\n",
    "for epoch in range(n_epochs):\n",
    "    for i in range(m):\n",
    "        random_index = np.random.randint(m)\n",
    "        Xi = X_b[random_index:random_index+1]\n",
    "        yi = y[random_index:random_index+1]\n",
    "        gradients = 2 * Xi.T.dot(Xi.dot(theta)-yi)\n",
    "        eta = learning_schedule (n_epochs * m+i)\n",
    "        theta = theta - eta * gradients\n",
    "print (\"Value of Theta:{}\".format(theta))        "
   ]
  },
  {
   "cell_type": "code",
   "execution_count": 159,
   "metadata": {},
   "outputs": [
    {
     "name": "stdout",
     "output_type": "stream",
     "text": [
      "Value of Theta:[[2.81000335]\n",
      " [2.22811756]]\n",
      "CPU times: user 1.64 ms, sys: 1.06 ms, total: 2.69 ms\n",
      "Wall time: 1.88 ms\n"
     ]
    }
   ],
   "source": []
  }
 ],
 "metadata": {
  "kernelspec": {
   "display_name": "Python 3",
   "language": "python",
   "name": "python3"
  },
  "language_info": {
   "codemirror_mode": {
    "name": "ipython",
    "version": 3
   },
   "file_extension": ".py",
   "mimetype": "text/x-python",
   "name": "python",
   "nbconvert_exporter": "python",
   "pygments_lexer": "ipython3",
   "version": "3.6.5"
  }
 },
 "nbformat": 4,
 "nbformat_minor": 2
}
